{
  "nbformat": 4,
  "nbformat_minor": 0,
  "metadata": {
    "colab": {
      "provenance": [],
      "authorship_tag": "ABX9TyMNwpjGt6rON2559ucgcyTZ"
    },
    "kernelspec": {
      "name": "python3",
      "display_name": "Python 3"
    },
    "language_info": {
      "name": "python"
    }
  },
  "cells": [
    {
      "cell_type": "markdown",
      "source": [
        "# Dicionários\n",
        "\n",
        "***Estrutura de dados***\n",
        "\n",
        "Um dicionário é um conjunto não-ordenado de pares chave:valor,\n",
        "onde as chaves são únicas em uma dada instância do dicionário.\n",
        "\n",
        "Dicionários são delimitados por chaves: {}, e contém uma lista de pares chave: valor separada por vírgulas."
      ],
      "metadata": {
        "id": "83l-yBefimrF"
      }
    },
    {
      "cell_type": "code",
      "execution_count": 2,
      "metadata": {
        "colab": {
          "base_uri": "https://localhost:8080/"
        },
        "id": "_uQE-0N2ilsb",
        "outputId": "835bd3fd-e3be-41d8-9e41-6482f460acb3"
      },
      "outputs": [
        {
          "output_type": "execute_result",
          "data": {
            "text/plain": [
              "{'nome': 'Andressa', 'idade': 30, 'telefone': '2231-1234'}"
            ]
          },
          "metadata": {},
          "execution_count": 2
        }
      ],
      "source": [
        "pessoa = {'nome:': 'Andressa', 'idade': 30}\n",
        "\n",
        "pessoa = dict(nome= 'Andressa', idade= 30)\n",
        "\n",
        "pessoa['telefone']= '2231-1234'\n",
        "\n",
        "pessoa"
      ]
    },
    {
      "cell_type": "markdown",
      "source": [
        "# Acesso aos dados:\n",
        "\n",
        "* Os dados são acessados e modificados através da chave."
      ],
      "metadata": {
        "id": "CYHr_WQPk-vD"
      }
    },
    {
      "cell_type": "code",
      "source": [
        "dados = {\"nome\": \"Guilherme\", \"idade\": 28, \"telefone\": \"3333-1234\"}\n"
      ],
      "metadata": {
        "id": "LCAZX-F4lQRA"
      },
      "execution_count": 7,
      "outputs": []
    },
    {
      "cell_type": "code",
      "source": [
        "dados[\"idade\"]"
      ],
      "metadata": {
        "colab": {
          "base_uri": "https://localhost:8080/"
        },
        "id": "YezqSsXEmMVB",
        "outputId": "282a6bcf-6ef7-4802-d60f-11dd3afd1a3f"
      },
      "execution_count": 8,
      "outputs": [
        {
          "output_type": "execute_result",
          "data": {
            "text/plain": [
              "28"
            ]
          },
          "metadata": {},
          "execution_count": 8
        }
      ]
    },
    {
      "cell_type": "code",
      "source": [
        "dados[\"nome\"]"
      ],
      "metadata": {
        "colab": {
          "base_uri": "https://localhost:8080/",
          "height": 35
        },
        "id": "7RAgwJCXl-Ef",
        "outputId": "bab9c7b1-58d1-4dab-aca6-338c5c0d450d"
      },
      "execution_count": 9,
      "outputs": [
        {
          "output_type": "execute_result",
          "data": {
            "text/plain": [
              "'Guilherme'"
            ],
            "application/vnd.google.colaboratory.intrinsic+json": {
              "type": "string"
            }
          },
          "metadata": {},
          "execution_count": 9
        }
      ]
    },
    {
      "cell_type": "code",
      "source": [
        "dados['nome'] = 'Maria'  #alteração do nome usando a chave\n",
        "\n",
        "dados"
      ],
      "metadata": {
        "colab": {
          "base_uri": "https://localhost:8080/"
        },
        "id": "rOGjnqnPmajk",
        "outputId": "9baa5359-2895-4b7c-b1b3-c28bfdea5ed5"
      },
      "execution_count": 10,
      "outputs": [
        {
          "output_type": "execute_result",
          "data": {
            "text/plain": [
              "{'nome': 'Maria', 'idade': 28, 'telefone': '3333-1234'}"
            ]
          },
          "metadata": {},
          "execution_count": 10
        }
      ]
    },
    {
      "cell_type": "markdown",
      "source": [
        "# Dicionários aninhados\n",
        "\n",
        "Dicionários podem armazenar qualquer tipo de objeto Python como valor,desde que a chave par a esse valor seja um objeto imutável como (strings e números)"
      ],
      "metadata": {
        "id": "NCpn2dHYm6Pv"
      }
    },
    {
      "cell_type": "code",
      "source": [
        "contatos = {\"guilherme@gmail.com\": {\"nome\": \"Guilherme\", \"telefone\": \"3333-2221\"},\n",
        "            \"giovanna@gmail.com\": {\"nome\": \"Giovanna\", \"telefone\": \"3443-2121\"},\n",
        "            \"chappie@gmail.com\": {\"nome\": \"Chappie\", \"telefone\": \"3344-9871\"},\n",
        "            \"melaine@gmail.com\": {\"nome\": \"Melaine\", \"telefone\": \"3333-7766\"},}\n",
        "\n",
        "contatos[\"giovanna@gmail.com\"][\"telefone\"]"
      ],
      "metadata": {
        "colab": {
          "base_uri": "https://localhost:8080/",
          "height": 35
        },
        "id": "8cJjrmjgnXk7",
        "outputId": "2b4c6ca0-bd15-475a-b136-dd2331d218d1"
      },
      "execution_count": 11,
      "outputs": [
        {
          "output_type": "execute_result",
          "data": {
            "text/plain": [
              "'3443-2121'"
            ],
            "application/vnd.google.colaboratory.intrinsic+json": {
              "type": "string"
            }
          },
          "metadata": {},
          "execution_count": 11
        }
      ]
    },
    {
      "cell_type": "markdown",
      "source": [
        "# Iterar dicionários\n",
        "\n",
        "A forma mais comum para percorrer os dados de um dicionário é utilizando o comando for."
      ],
      "metadata": {
        "id": "Hrz3tYVYpXcU"
      }
    },
    {
      "cell_type": "code",
      "source": [
        "for chave in contatos:\n",
        "  print(chave, contatos[chave])"
      ],
      "metadata": {
        "colab": {
          "base_uri": "https://localhost:8080/"
        },
        "id": "obPB7wKCpoYa",
        "outputId": "c66a5cfd-c70c-4a40-e7e5-0020b850aecb"
      },
      "execution_count": 12,
      "outputs": [
        {
          "output_type": "stream",
          "name": "stdout",
          "text": [
            "guilherme@gmail.com {'nome': 'Guilherme', 'telefone': '3333-2221'}\n",
            "giovanna@gmail.com {'nome': 'Giovanna', 'telefone': '3443-2121'}\n",
            "chappie@gmail.com {'nome': 'Chappie', 'telefone': '3344-9871'}\n",
            "melaine@gmail.com {'nome': 'Melaine', 'telefone': '3333-7766'}\n"
          ]
        }
      ]
    },
    {
      "cell_type": "code",
      "source": [
        "for chave, valor in contatos.items():\n",
        "  print(chave, valor)"
      ],
      "metadata": {
        "colab": {
          "base_uri": "https://localhost:8080/"
        },
        "id": "GkkH34SYp8Gr",
        "outputId": "9c9a3472-c373-43e0-f341-ac5bf034da15"
      },
      "execution_count": 14,
      "outputs": [
        {
          "output_type": "stream",
          "name": "stdout",
          "text": [
            "guilherme@gmail.com {'nome': 'Guilherme', 'telefone': '3333-2221'}\n",
            "giovanna@gmail.com {'nome': 'Giovanna', 'telefone': '3443-2121'}\n",
            "chappie@gmail.com {'nome': 'Chappie', 'telefone': '3344-9871'}\n",
            "melaine@gmail.com {'nome': 'Melaine', 'telefone': '3333-7766'}\n"
          ]
        }
      ]
    },
    {
      "cell_type": "markdown",
      "source": [
        "# Métodos da classe dict:\n",
        "\n",
        ".clear()\n",
        "* Remove todos os itens do dicionário, deixando-o vazio"
      ],
      "metadata": {
        "id": "2Uu6sg2lqVVF"
      }
    },
    {
      "cell_type": "code",
      "source": [
        "contatos = {\n",
        "    \"jose@gmail.com\": {\"nome\": \"Jose\", \"telefone\": \"3333-2221\"},\n",
        "    \"ana@gmail.com\": {\"nome\": \"Ana\", \"telefone\": \"3443-2121\"},\n",
        "    \"gabi@gmail.com\": {\"nome\": \"Gabi\", \"telefone\": \"3344-9871\"},\n",
        "    \"clara@gmail.com\": {\"nome\": \"Clara\", \"telefone\": \"3333-7766\"},\n",
        "}\n",
        "\n",
        "contatos.clear()\n",
        "print(contatos)  # {}"
      ],
      "metadata": {
        "colab": {
          "base_uri": "https://localhost:8080/"
        },
        "id": "P8gr86X8sagH",
        "outputId": "cadb7669-a0ae-4bcd-e82e-b90604389ef6"
      },
      "execution_count": 16,
      "outputs": [
        {
          "output_type": "stream",
          "name": "stdout",
          "text": [
            "{}\n"
          ]
        }
      ]
    },
    {
      "cell_type": "markdown",
      "source": [
        ".copy()\n",
        "\n",
        "Retorna uma cópia superficial (shallow copy) do dicionário."
      ],
      "metadata": {
        "id": "px5NpvDQuM1u"
      }
    },
    {
      "cell_type": "code",
      "source": [
        "contatos = {\"andressa.com\": {\"nome\": \"Andressa\", \"telefone\": \"2002-2221\"}}\n",
        "\n",
        "copia = contatos.copy()\n",
        "\n",
        "copia"
      ],
      "metadata": {
        "colab": {
          "base_uri": "https://localhost:8080/"
        },
        "id": "iZXJBaPyullT",
        "outputId": "8ce81e7c-6b23-49e9-8e4f-8b02f8739199"
      },
      "execution_count": 19,
      "outputs": [
        {
          "output_type": "execute_result",
          "data": {
            "text/plain": [
              "{'andressa.com': {'nome': 'Andressa', 'telefone': '2002-2221'}}"
            ]
          },
          "metadata": {},
          "execution_count": 19
        }
      ]
    },
    {
      "cell_type": "markdown",
      "source": [
        ".fromkeys()\n",
        "* Cria um novo dicionário com chaves a partir de uma sequência fornecida e valores padrão definidos (se fornecidos)"
      ],
      "metadata": {
        "id": "emVY7oX2uM-8"
      }
    },
    {
      "cell_type": "code",
      "source": [
        "resultado = dict.fromkeys([\"nome\", \"telefone\"])\n",
        "print(resultado)\n",
        "\n",
        "resultado = dict.fromkeys([\"nome\", \"telefone\"], \"vazio\")\n",
        "print(resultado)"
      ],
      "metadata": {
        "colab": {
          "base_uri": "https://localhost:8080/"
        },
        "id": "oDemlY0pukUq",
        "outputId": "4fd9c333-c611-42cb-aa2c-272657801c08"
      },
      "execution_count": 20,
      "outputs": [
        {
          "output_type": "stream",
          "name": "stdout",
          "text": [
            "{'nome': None, 'telefone': None}\n",
            "{'nome': 'vazio', 'telefone': 'vazio'}\n"
          ]
        }
      ]
    },
    {
      "cell_type": "markdown",
      "source": [
        ".get()\n",
        "* Retorna o valor associado à chave fornecida. Se a chave não existir, retorna um valor padrão (se fornecido), caso contrário, retorna None."
      ],
      "metadata": {
        "id": "pqMzxMfduNR-"
      }
    },
    {
      "cell_type": "code",
      "source": [
        "contatos = {\"guilherme@gmail.com\": {\"nome\": \"Guilherme\", \"telefone\": \"3333-2221\"}}\n",
        "\n",
        "\n",
        "resultado = contatos.get(\"chave\")  # None\n",
        "print(resultado)\n",
        "\n",
        "resultado = contatos.get(\"chave\", {})  # {}\n",
        "print(resultado)\n",
        "\n",
        "resultado = contatos.get(\n",
        "    \"guilherme@gmail.com\", {})\n",
        "\n",
        "print(resultado)"
      ],
      "metadata": {
        "colab": {
          "base_uri": "https://localhost:8080/"
        },
        "id": "4xhElXyCuthS",
        "outputId": "b2fa3172-90bb-43c7-d0fe-92e9c2ad3be5"
      },
      "execution_count": 22,
      "outputs": [
        {
          "output_type": "stream",
          "name": "stdout",
          "text": [
            "None\n",
            "{}\n",
            "{'nome': 'Guilherme', 'telefone': '3333-2221'}\n"
          ]
        }
      ]
    },
    {
      "cell_type": "markdown",
      "source": [
        "\n",
        ".items()\n",
        "* Retorna uma visão (view) dos itens (pares chave-valor) do dicionário.\n"
      ],
      "metadata": {
        "id": "tKOVJNcuuNXy"
      }
    },
    {
      "cell_type": "code",
      "source": [
        "resultado = contatos.items()\n",
        "print(resultado)"
      ],
      "metadata": {
        "colab": {
          "base_uri": "https://localhost:8080/"
        },
        "id": "fNLBSUj4vcUk",
        "outputId": "39776218-49ae-486f-9e46-ced49806e8d2"
      },
      "execution_count": 23,
      "outputs": [
        {
          "output_type": "stream",
          "name": "stdout",
          "text": [
            "dict_items([('guilherme@gmail.com', {'nome': 'Guilherme', 'telefone': '3333-2221'})])\n"
          ]
        }
      ]
    },
    {
      "cell_type": "markdown",
      "source": [
        ".keys()\n",
        "Retorna uma visão dos nomes das chaves no dicionário."
      ],
      "metadata": {
        "id": "5MVV1M7wuNvf"
      }
    },
    {
      "cell_type": "code",
      "source": [
        "resultado = contatos.keys()\n",
        "print(resultado)"
      ],
      "metadata": {
        "colab": {
          "base_uri": "https://localhost:8080/"
        },
        "id": "e9R6GDaqpX0Q",
        "outputId": "3dcceecf-9f19-4bae-c5e7-6efaad9b9ce8"
      },
      "execution_count": 24,
      "outputs": [
        {
          "output_type": "stream",
          "name": "stdout",
          "text": [
            "dict_keys(['guilherme@gmail.com'])\n"
          ]
        }
      ]
    },
    {
      "cell_type": "markdown",
      "source": [
        ".pop()\n",
        "* é utilizado para remover e retornar um item (par chave-valor) com uma chave específica. Quando você chama o método .pop() em um dicionário, ele tenta remover o item correspondente à chave que você fornecer, e retorna o valor associado a essa chave."
      ],
      "metadata": {
        "id": "CbZhbxv6x14Y"
      }
    },
    {
      "cell_type": "code",
      "source": [
        "resultado = contatos.pop(\"guilherme@gmail.com\")\n",
        "print(resultado)\n",
        "\n",
        "resultado = contatos.pop(\"guilherme@gmail.com\", {})\n",
        "print(resultado)"
      ],
      "metadata": {
        "colab": {
          "base_uri": "https://localhost:8080/"
        },
        "id": "-tA43OBpyAeH",
        "outputId": "a5078923-f5f0-4b68-f779-0794ffdee898"
      },
      "execution_count": 25,
      "outputs": [
        {
          "output_type": "stream",
          "name": "stdout",
          "text": [
            "{'nome': 'Guilherme', 'telefone': '3333-2221'}\n",
            "{}\n"
          ]
        }
      ]
    }
  ]
}